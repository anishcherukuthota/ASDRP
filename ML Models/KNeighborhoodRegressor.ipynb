{
 "cells": [
  {
   "cell_type": "code",
   "execution_count": 8,
   "id": "fb6be02c",
   "metadata": {},
   "outputs": [],
   "source": [
    "import pandas as pd\n",
    "import sklearn\n",
    "from sklearn.neighbors import KNeighborsRegressor\n",
    "from sklearn.linear_model import LinearRegression\n",
    "import matplotlib.pylab as plt\n",
    "\n",
    "from sklearn.preprocessing import StandardScaler\n",
    "from sklearn.pipeline import Pipeline\n",
    "\n",
    "from sklearn.model_selection import GridSearchCV\n",
    "\n",
    "from sklearn.metrics import classification_report\n",
    "\n",
    "from sklearn.metrics import r2_score\n",
    "from math import sqrt\n",
    "\n",
    "from sklearn.metrics import mean_squared_error\n",
    "\n",
    "from sklearn.model_selection import train_test_split\n",
    "\n",
    "import numpy as np"
   ]
  },
  {
   "cell_type": "code",
   "execution_count": 9,
   "id": "28b0a677",
   "metadata": {},
   "outputs": [
    {
     "data": {
      "text/html": [
       "<div>\n",
       "<style scoped>\n",
       "    .dataframe tbody tr th:only-of-type {\n",
       "        vertical-align: middle;\n",
       "    }\n",
       "\n",
       "    .dataframe tbody tr th {\n",
       "        vertical-align: top;\n",
       "    }\n",
       "\n",
       "    .dataframe thead th {\n",
       "        text-align: right;\n",
       "    }\n",
       "</style>\n",
       "<table border=\"1\" class=\"dataframe\">\n",
       "  <thead>\n",
       "    <tr style=\"text-align: right;\">\n",
       "      <th></th>\n",
       "      <th>age</th>\n",
       "      <th>female</th>\n",
       "      <th>wbhaom</th>\n",
       "      <th>state</th>\n",
       "      <th>educ92</th>\n",
       "      <th>incp_ern</th>\n",
       "    </tr>\n",
       "  </thead>\n",
       "  <tbody>\n",
       "    <tr>\n",
       "      <th>0</th>\n",
       "      <td>76</td>\n",
       "      <td>0</td>\n",
       "      <td>0</td>\n",
       "      <td>19</td>\n",
       "      <td>2</td>\n",
       "      <td>0</td>\n",
       "    </tr>\n",
       "    <tr>\n",
       "      <th>1</th>\n",
       "      <td>23</td>\n",
       "      <td>1</td>\n",
       "      <td>0</td>\n",
       "      <td>19</td>\n",
       "      <td>9</td>\n",
       "      <td>0</td>\n",
       "    </tr>\n",
       "    <tr>\n",
       "      <th>2</th>\n",
       "      <td>24</td>\n",
       "      <td>0</td>\n",
       "      <td>0</td>\n",
       "      <td>19</td>\n",
       "      <td>6</td>\n",
       "      <td>0</td>\n",
       "    </tr>\n",
       "    <tr>\n",
       "      <th>3</th>\n",
       "      <td>17</td>\n",
       "      <td>0</td>\n",
       "      <td>0</td>\n",
       "      <td>19</td>\n",
       "      <td>3</td>\n",
       "      <td>0</td>\n",
       "    </tr>\n",
       "    <tr>\n",
       "      <th>4</th>\n",
       "      <td>59</td>\n",
       "      <td>1</td>\n",
       "      <td>2</td>\n",
       "      <td>19</td>\n",
       "      <td>9</td>\n",
       "      <td>0</td>\n",
       "    </tr>\n",
       "    <tr>\n",
       "      <th>...</th>\n",
       "      <td>...</td>\n",
       "      <td>...</td>\n",
       "      <td>...</td>\n",
       "      <td>...</td>\n",
       "      <td>...</td>\n",
       "      <td>...</td>\n",
       "    </tr>\n",
       "    <tr>\n",
       "      <th>693711</th>\n",
       "      <td>50</td>\n",
       "      <td>1</td>\n",
       "      <td>0</td>\n",
       "      <td>5</td>\n",
       "      <td>10</td>\n",
       "      <td>5</td>\n",
       "    </tr>\n",
       "    <tr>\n",
       "      <th>693712</th>\n",
       "      <td>45</td>\n",
       "      <td>1</td>\n",
       "      <td>1</td>\n",
       "      <td>24</td>\n",
       "      <td>5</td>\n",
       "      <td>5</td>\n",
       "    </tr>\n",
       "    <tr>\n",
       "      <th>693713</th>\n",
       "      <td>36</td>\n",
       "      <td>0</td>\n",
       "      <td>0</td>\n",
       "      <td>44</td>\n",
       "      <td>9</td>\n",
       "      <td>5</td>\n",
       "    </tr>\n",
       "    <tr>\n",
       "      <th>693714</th>\n",
       "      <td>47</td>\n",
       "      <td>0</td>\n",
       "      <td>0</td>\n",
       "      <td>37</td>\n",
       "      <td>15</td>\n",
       "      <td>5</td>\n",
       "    </tr>\n",
       "    <tr>\n",
       "      <th>693715</th>\n",
       "      <td>60</td>\n",
       "      <td>0</td>\n",
       "      <td>3</td>\n",
       "      <td>5</td>\n",
       "      <td>15</td>\n",
       "      <td>5</td>\n",
       "    </tr>\n",
       "  </tbody>\n",
       "</table>\n",
       "<p>693716 rows × 6 columns</p>\n",
       "</div>"
      ],
      "text/plain": [
       "        age  female  wbhaom  state  educ92  incp_ern\n",
       "0        76       0       0     19       2         0\n",
       "1        23       1       0     19       9         0\n",
       "2        24       0       0     19       6         0\n",
       "3        17       0       0     19       3         0\n",
       "4        59       1       2     19       9         0\n",
       "...     ...     ...     ...    ...     ...       ...\n",
       "693711   50       1       0      5      10         5\n",
       "693712   45       1       1     24       5         5\n",
       "693713   36       0       0     44       9         5\n",
       "693714   47       0       0     37      15         5\n",
       "693715   60       0       3      5      15         5\n",
       "\n",
       "[693716 rows x 6 columns]"
      ]
     },
     "execution_count": 9,
     "metadata": {},
     "output_type": "execute_result"
    }
   ],
   "source": [
    "df = pd.read_csv(\"E:\\\\Documents\\\\ASDRP\\\\NewData\\\\masterData4.csv\", low_memory=False)\n",
    "df"
   ]
  },
  {
   "cell_type": "code",
   "execution_count": 10,
   "id": "7a5cdb05",
   "metadata": {},
   "outputs": [],
   "source": [
    "X = df[['age','female','wbhaom','state','educ92']]\n",
    "y = df['incp_ern']"
   ]
  },
  {
   "cell_type": "code",
   "execution_count": 14,
   "id": "65b32863",
   "metadata": {},
   "outputs": [],
   "source": [
    "testDF = pd.read_csv(\"E:\\\\Documents\\\\ASDRP\\\\NewData\\\\testingData2.csv\", low_memory=False)\n",
    "testX = testDF[['age','female','wbhaom','state','educ92']]\n",
    "testy = testDF['incp_ern']"
   ]
  },
  {
   "cell_type": "code",
   "execution_count": 92,
   "id": "09eaacef",
   "metadata": {},
   "outputs": [
    {
     "data": {
      "text/plain": [
       "Pipeline(steps=[('model', KNeighborsRegressor(n_neighbors=40))])"
      ]
     },
     "execution_count": 92,
     "metadata": {},
     "output_type": "execute_result"
    }
   ],
   "source": [
    "model = KNeighborsRegressor().fit(X,y)\n",
    "\n",
    "pipe = Pipeline([\n",
    "    (\"model\", KNeighborsRegressor(n_neighbors=40))\n",
    "])\n",
    "#model = KNeighborsClassifier(n_neighbors=5)\n",
    "pipe.fit(X,y)"
   ]
  },
  {
   "cell_type": "markdown",
   "id": "1724e2ac",
   "metadata": {},
   "source": [
    "## pipe.fit(X, y)"
   ]
  },
  {
   "cell_type": "code",
   "execution_count": 93,
   "id": "5d0eb756",
   "metadata": {},
   "outputs": [],
   "source": [
    "pred = pipe.predict(testX)"
   ]
  },
  {
   "cell_type": "code",
   "execution_count": 94,
   "id": "03aa475b",
   "metadata": {},
   "outputs": [],
   "source": [
    "#for i in range(len(pred)):\n",
    " #   pred[i] = round(pred[i], 0)"
   ]
  },
  {
   "cell_type": "code",
   "execution_count": 97,
   "id": "6b1e2168",
   "metadata": {},
   "outputs": [],
   "source": [
    "rSquared = r2_score(testy,pred)"
   ]
  },
  {
   "cell_type": "code",
   "execution_count": 98,
   "id": "3789d16c",
   "metadata": {},
   "outputs": [
    {
     "name": "stdout",
     "output_type": "stream",
     "text": [
      "R2 score for KNN 0.271653551474368\n",
      "Root Mean Square error KNN 1.3407551118118843\n"
     ]
    }
   ],
   "source": [
    "print('R2 score for KNN',rSquared)\n",
    "print('Root Mean Square error KNN',sqrt(mean_squared_error(testy,pred)))"
   ]
  },
  {
   "cell_type": "code",
   "execution_count": 99,
   "id": "838b33db",
   "metadata": {},
   "outputs": [
    {
     "data": {
      "text/plain": [
       "0.5212039442237252"
      ]
     },
     "execution_count": 99,
     "metadata": {},
     "output_type": "execute_result"
    }
   ],
   "source": [
    "r = sqrt(rSquared)\n",
    "r"
   ]
  },
  {
   "cell_type": "code",
   "execution_count": null,
   "id": "3b12fe08",
   "metadata": {},
   "outputs": [],
   "source": []
  }
 ],
 "metadata": {
  "kernelspec": {
   "display_name": "Python 3",
   "language": "python",
   "name": "python3"
  }
 },
 "nbformat": 4,
 "nbformat_minor": 5
}
