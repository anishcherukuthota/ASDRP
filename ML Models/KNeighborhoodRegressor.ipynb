{
 "cells": [
  {
   "cell_type": "code",
   "execution_count": 24,
   "id": "fb6be02c",
   "metadata": {},
   "outputs": [],
   "source": [
    "import pandas as pd\n",
    "from sklearn.neighbors import KNeighborsRegressor\n",
    "from sklearn.linear_model import LinearRegression\n",
    "import matplotlib.pylab as plt\n",
    "\n",
    "from sklearn.preprocessing import StandardScaler\n",
    "from sklearn.pipeline import Pipeline\n",
    "\n",
    "from sklearn.model_selection import GridSearchCV"
   ]
  },
  {
   "cell_type": "code",
   "execution_count": 25,
   "id": "28b0a677",
   "metadata": {},
   "outputs": [
    {
     "data": {
      "text/html": [
       "<div>\n",
       "<style scoped>\n",
       "    .dataframe tbody tr th:only-of-type {\n",
       "        vertical-align: middle;\n",
       "    }\n",
       "\n",
       "    .dataframe tbody tr th {\n",
       "        vertical-align: top;\n",
       "    }\n",
       "\n",
       "    .dataframe thead th {\n",
       "        text-align: right;\n",
       "    }\n",
       "</style>\n",
       "<table border=\"1\" class=\"dataframe\">\n",
       "  <thead>\n",
       "    <tr style=\"text-align: right;\">\n",
       "      <th></th>\n",
       "      <th>age</th>\n",
       "      <th>female</th>\n",
       "      <th>wbhaom</th>\n",
       "      <th>state</th>\n",
       "      <th>educ92</th>\n",
       "      <th>incp_ern</th>\n",
       "    </tr>\n",
       "  </thead>\n",
       "  <tbody>\n",
       "    <tr>\n",
       "      <th>0</th>\n",
       "      <td>76</td>\n",
       "      <td>0</td>\n",
       "      <td>0</td>\n",
       "      <td>19</td>\n",
       "      <td>2</td>\n",
       "      <td>1000</td>\n",
       "    </tr>\n",
       "    <tr>\n",
       "      <th>1</th>\n",
       "      <td>23</td>\n",
       "      <td>1</td>\n",
       "      <td>0</td>\n",
       "      <td>19</td>\n",
       "      <td>9</td>\n",
       "      <td>1000</td>\n",
       "    </tr>\n",
       "    <tr>\n",
       "      <th>2</th>\n",
       "      <td>24</td>\n",
       "      <td>0</td>\n",
       "      <td>0</td>\n",
       "      <td>19</td>\n",
       "      <td>6</td>\n",
       "      <td>1000</td>\n",
       "    </tr>\n",
       "    <tr>\n",
       "      <th>3</th>\n",
       "      <td>17</td>\n",
       "      <td>0</td>\n",
       "      <td>0</td>\n",
       "      <td>19</td>\n",
       "      <td>3</td>\n",
       "      <td>1000</td>\n",
       "    </tr>\n",
       "    <tr>\n",
       "      <th>4</th>\n",
       "      <td>59</td>\n",
       "      <td>1</td>\n",
       "      <td>2</td>\n",
       "      <td>19</td>\n",
       "      <td>9</td>\n",
       "      <td>1000</td>\n",
       "    </tr>\n",
       "    <tr>\n",
       "      <th>...</th>\n",
       "      <td>...</td>\n",
       "      <td>...</td>\n",
       "      <td>...</td>\n",
       "      <td>...</td>\n",
       "      <td>...</td>\n",
       "      <td>...</td>\n",
       "    </tr>\n",
       "    <tr>\n",
       "      <th>694103</th>\n",
       "      <td>47</td>\n",
       "      <td>0</td>\n",
       "      <td>0</td>\n",
       "      <td>5</td>\n",
       "      <td>7</td>\n",
       "      <td>1102999</td>\n",
       "    </tr>\n",
       "    <tr>\n",
       "      <th>694104</th>\n",
       "      <td>34</td>\n",
       "      <td>0</td>\n",
       "      <td>0</td>\n",
       "      <td>17</td>\n",
       "      <td>9</td>\n",
       "      <td>1103999</td>\n",
       "    </tr>\n",
       "    <tr>\n",
       "      <th>694105</th>\n",
       "      <td>51</td>\n",
       "      <td>0</td>\n",
       "      <td>0</td>\n",
       "      <td>40</td>\n",
       "      <td>7</td>\n",
       "      <td>1239999</td>\n",
       "    </tr>\n",
       "    <tr>\n",
       "      <th>694106</th>\n",
       "      <td>59</td>\n",
       "      <td>0</td>\n",
       "      <td>0</td>\n",
       "      <td>51</td>\n",
       "      <td>11</td>\n",
       "      <td>1399999</td>\n",
       "    </tr>\n",
       "    <tr>\n",
       "      <th>694107</th>\n",
       "      <td>51</td>\n",
       "      <td>0</td>\n",
       "      <td>0</td>\n",
       "      <td>49</td>\n",
       "      <td>9</td>\n",
       "      <td>1470000</td>\n",
       "    </tr>\n",
       "  </tbody>\n",
       "</table>\n",
       "<p>694108 rows × 6 columns</p>\n",
       "</div>"
      ],
      "text/plain": [
       "        age  female  wbhaom  state  educ92  incp_ern\n",
       "0        76       0       0     19       2      1000\n",
       "1        23       1       0     19       9      1000\n",
       "2        24       0       0     19       6      1000\n",
       "3        17       0       0     19       3      1000\n",
       "4        59       1       2     19       9      1000\n",
       "...     ...     ...     ...    ...     ...       ...\n",
       "694103   47       0       0      5       7   1102999\n",
       "694104   34       0       0     17       9   1103999\n",
       "694105   51       0       0     40       7   1239999\n",
       "694106   59       0       0     51      11   1399999\n",
       "694107   51       0       0     49       9   1470000\n",
       "\n",
       "[694108 rows x 6 columns]"
      ]
     },
     "execution_count": 25,
     "metadata": {},
     "output_type": "execute_result"
    }
   ],
   "source": [
    "df = pd.read_csv(\"E:\\\\Documents\\\\ASDRP\\\\Data\\\\masterData.csv\", low_memory=False)\n",
    "df"
   ]
  },
  {
   "cell_type": "code",
   "execution_count": 26,
   "id": "7a5cdb05",
   "metadata": {},
   "outputs": [],
   "source": [
    "X = df[['age','female','wbhaom','state','educ92']]"
   ]
  },
  {
   "cell_type": "code",
   "execution_count": 27,
   "id": "d9f85d0d",
   "metadata": {},
   "outputs": [],
   "source": [
    "y = df['incp_ern']"
   ]
  },
  {
   "cell_type": "code",
   "execution_count": 65,
   "id": "09eaacef",
   "metadata": {},
   "outputs": [],
   "source": [
    "model = KNeighborsRegressor().fit(X, y)\n",
    "\n",
    "pipe = Pipeline([\n",
    "    (\"scale\", StandardScaler()),\n",
    "    (\"model\", KNeighborsRegressor(n_neighbors=1))\n",
    "])"
   ]
  },
  {
   "cell_type": "code",
   "execution_count": 66,
   "id": "73f5d51c",
   "metadata": {},
   "outputs": [
    {
     "data": {
      "text/plain": [
       "Pipeline(steps=[('scale', StandardScaler()),\n",
       "                ('model', KNeighborsRegressor(n_neighbors=1))])"
      ]
     },
     "execution_count": 66,
     "metadata": {},
     "output_type": "execute_result"
    }
   ],
   "source": [
    "pipe.fit(X, y)"
   ]
  },
  {
   "cell_type": "code",
   "execution_count": 67,
   "id": "747835b9",
   "metadata": {},
   "outputs": [],
   "source": [
    "testDF = pd.read_csv(\"E:\\\\Documents\\\\ASDRP\\Data\\\\cepr_march_2018.csv\", low_memory=False)"
   ]
  },
  {
   "cell_type": "code",
   "execution_count": 68,
   "id": "d986996a",
   "metadata": {},
   "outputs": [],
   "source": [
    "testX = testDF[['age','female','wbhaom','state','educ92']]"
   ]
  },
  {
   "cell_type": "code",
   "execution_count": 69,
   "id": "01c03c8d",
   "metadata": {},
   "outputs": [],
   "source": [
    "testny = testDF['incp_ern']"
   ]
  },
  {
   "cell_type": "code",
   "execution_count": 70,
   "id": "5c35ea6e",
   "metadata": {},
   "outputs": [],
   "source": [
    "pred = pipe.predict(trainX)"
   ]
  },
  {
   "cell_type": "code",
   "execution_count": 71,
   "id": "1e412876",
   "metadata": {},
   "outputs": [
    {
     "data": {
      "text/plain": [
       "<matplotlib.collections.PathCollection at 0x2854c9c99d0>"
      ]
     },
     "execution_count": 71,
     "metadata": {},
     "output_type": "execute_result"
    },
    {
     "data": {
      "image/png": "[encoded data removed]",
      "text/plain": [
       "<Figure size 432x288 with 1 Axes>"
      ]
     },
     "metadata": {
      "needs_background": "light"
     },
     "output_type": "display_data"
    }
   ],
   "source": [
    "plt.scatter(testDF['age'], trainy)\n",
    "plt.scatter(testDF['age'], pred)"
   ]
  },
  {
   "cell_type": "code",
   "execution_count": null,
   "id": "9fdd46a3",
   "metadata": {},
   "outputs": [],
   "source": []
  }
 ],
 "metadata": {
  "kernelspec": {
   "display_name": "Python 3",
   "language": "python",
   "name": "python3"
  },
  "language_info": {
   "codemirror_mode": {
    "name": "ipython",
    "version": 3
   },
   "file_extension": ".py",
   "mimetype": "text/x-python",
   "name": "python",
   "nbconvert_exporter": "python",
   "pygments_lexer": "ipython3",
   "version": "3.8.8"
  }
 },
 "nbformat": 4,
 "nbformat_minor": 5
}
